{
 "cells": [
  {
   "cell_type": "code",
   "execution_count": 12,
   "id": "78d30fb5-5471-4580-8688-18a4a9e941f4",
   "metadata": {},
   "outputs": [],
   "source": [
    "import pandas as pd\n",
    "import requests\n",
    "import os\n",
    "import re"
   ]
  },
  {
   "cell_type": "code",
   "execution_count": 2,
   "id": "82067b12-6fd0-4c56-9296-421bc4ca8207",
   "metadata": {},
   "outputs": [
    {
     "data": {
      "text/html": [
       "<div>\n",
       "<style scoped>\n",
       "    .dataframe tbody tr th:only-of-type {\n",
       "        vertical-align: middle;\n",
       "    }\n",
       "\n",
       "    .dataframe tbody tr th {\n",
       "        vertical-align: top;\n",
       "    }\n",
       "\n",
       "    .dataframe thead th {\n",
       "        text-align: right;\n",
       "    }\n",
       "</style>\n",
       "<table border=\"1\" class=\"dataframe\">\n",
       "  <thead>\n",
       "    <tr style=\"text-align: right;\">\n",
       "      <th></th>\n",
       "      <th>Unnamed: 0</th>\n",
       "      <th>text</th>\n",
       "      <th>img</th>\n",
       "    </tr>\n",
       "  </thead>\n",
       "  <tbody>\n",
       "    <tr>\n",
       "      <th>0</th>\n",
       "      <td>0</td>\n",
       "      <td>T1\\r\\nE LOCK SINGLE O-RING\\r\\nSystem Ø\\r\\nType...</td>\n",
       "      <td>https://media.araymond.com/image/upload/e_trim...</td>\n",
       "    </tr>\n",
       "    <tr>\n",
       "      <th>1</th>\n",
       "      <td>1</td>\n",
       "      <td>T2\\r\\nE LOCK SINGLE O-RING\\r\\nSystem Ø\\r\\nType...</td>\n",
       "      <td>https://media.araymond.com/image/upload/e_trim...</td>\n",
       "    </tr>\n",
       "    <tr>\n",
       "      <th>2</th>\n",
       "      <td>2</td>\n",
       "      <td>GA9\\r\\nNEW TOOL REQUIRED\\r\\nVDA\\r\\nSystem Ø\\r\\...</td>\n",
       "      <td>https://media.araymond.com/image/upload/e_trim...</td>\n",
       "    </tr>\n",
       "    <tr>\n",
       "      <th>3</th>\n",
       "      <td>3</td>\n",
       "      <td>GA6\\r\\nVDA\\r\\nSystem Ø\\r\\nNW6\\r\\nLine Ø\\r\\nTub...</td>\n",
       "      <td>https://media.araymond.com/image/upload/e_trim...</td>\n",
       "    </tr>\n",
       "    <tr>\n",
       "      <th>4</th>\n",
       "      <td>4</td>\n",
       "      <td>GA11\\r\\nNEW TOOL REQUIRED\\r\\nVDA\\r\\nSystem Ø\\r...</td>\n",
       "      <td>https://media.araymond.com/image/upload/e_trim...</td>\n",
       "    </tr>\n",
       "  </tbody>\n",
       "</table>\n",
       "</div>"
      ],
      "text/plain": [
       "   Unnamed: 0                                               text  \\\n",
       "0           0  T1\\r\\nE LOCK SINGLE O-RING\\r\\nSystem Ø\\r\\nType...   \n",
       "1           1  T2\\r\\nE LOCK SINGLE O-RING\\r\\nSystem Ø\\r\\nType...   \n",
       "2           2  GA9\\r\\nNEW TOOL REQUIRED\\r\\nVDA\\r\\nSystem Ø\\r\\...   \n",
       "3           3  GA6\\r\\nVDA\\r\\nSystem Ø\\r\\nNW6\\r\\nLine Ø\\r\\nTub...   \n",
       "4           4  GA11\\r\\nNEW TOOL REQUIRED\\r\\nVDA\\r\\nSystem Ø\\r...   \n",
       "\n",
       "                                                 img  \n",
       "0  https://media.araymond.com/image/upload/e_trim...  \n",
       "1  https://media.araymond.com/image/upload/e_trim...  \n",
       "2  https://media.araymond.com/image/upload/e_trim...  \n",
       "3  https://media.araymond.com/image/upload/e_trim...  \n",
       "4  https://media.araymond.com/image/upload/e_trim...  "
      ]
     },
     "execution_count": 2,
     "metadata": {},
     "output_type": "execute_result"
    }
   ],
   "source": [
    "df = pd.read_csv('res.csv')\n",
    "df.head()"
   ]
  },
  {
   "cell_type": "code",
   "execution_count": 4,
   "id": "dfd7b1be-9552-4d70-8d4c-93315d6f9533",
   "metadata": {},
   "outputs": [
    {
     "data": {
      "text/plain": [
       "['https://media.araymond.com/image/upload/e_trim/h_150,w_150,c_pad/Connecting/Keyshot/T1',\n",
       " 'https://media.araymond.com/image/upload/e_trim/h_150,w_150,c_pad/Connecting/Keyshot/T2',\n",
       " 'https://media.araymond.com/image/upload/e_trim/h_150,w_150,c_pad/Connecting/Keyshot/GA9',\n",
       " 'https://media.araymond.com/image/upload/e_trim/h_150,w_150,c_pad/Connecting/Keyshot/GA6',\n",
       " 'https://media.araymond.com/image/upload/e_trim/h_150,w_150,c_pad/Connecting/Keyshot/GA11']"
      ]
     },
     "execution_count": 4,
     "metadata": {},
     "output_type": "execute_result"
    }
   ],
   "source": [
    "links = df['img'].to_list()\n",
    "links[:5]"
   ]
  },
  {
   "cell_type": "code",
   "execution_count": 9,
   "id": "e04837e4-75b2-46cc-8186-55c9d090fa3d",
   "metadata": {},
   "outputs": [],
   "source": [
    "for link in links:\n",
    "    resp = requests.get(link)\n",
    "    name = link.split('/')[-1]\n",
    "    with open(f'./imgs/{name}.png', 'wb') as f:\n",
    "        f.write(resp.content)"
   ]
  },
  {
   "cell_type": "code",
   "execution_count": 11,
   "id": "7611cb87-defe-4ff9-8308-1804b55b8bb0",
   "metadata": {},
   "outputs": [
    {
     "data": {
      "text/plain": [
       "['T1\\r\\nE LOCK SINGLE O-RING\\r\\nSystem Ø\\r\\nType 6\\r\\nLine Ø\\r\\nTube 8x10 or 3/8in\\r\\nAngle\\r\\nSTRAIGHT',\n",
       " 'T2\\r\\nE LOCK SINGLE O-RING\\r\\nSystem Ø\\r\\nType 6\\r\\nLine Ø\\r\\nTube 8x10 or 3/8in\\r\\nAngle\\r\\n90°',\n",
       " 'GA9\\r\\nNEW TOOL REQUIRED\\r\\nVDA\\r\\nSystem Ø\\r\\nNW6\\r\\nLine Ø\\r\\nTube 8x10 or 3/8in\\r\\nAngle\\r\\nSTRAIGHT',\n",
       " 'GA6\\r\\nVDA\\r\\nSystem Ø\\r\\nNW6\\r\\nLine Ø\\r\\nTube 8x10 or 3/8in\\r\\nAngle\\r\\nSTRAIGHT',\n",
       " 'GA11\\r\\nNEW TOOL REQUIRED\\r\\nVDA\\r\\nSystem Ø\\r\\nNW6\\r\\nLine Ø\\r\\nTube 8x10 or 3/8in\\r\\nAngle\\r\\n90°']"
      ]
     },
     "execution_count": 11,
     "metadata": {},
     "output_type": "execute_result"
    }
   ],
   "source": [
    "texts = df['text'].to_list()\n",
    "texts[:5]"
   ]
  },
  {
   "cell_type": "code",
   "execution_count": 39,
   "id": "aa663020-7340-4919-a402-6a57c808fe8b",
   "metadata": {},
   "outputs": [],
   "source": [
    "# notList = ['System Ø','Line Ø','Angle','NEW TOOL REQUIRED','Head Rotation','LOW PUSH & VERIFIER AVAILABLE','LOW PUSH AVAILABLE']\n",
    "notList = ['NEW TOOL REQUIRED','LOW PUSH & VERIFIER AVAILABLE','LOW PUSH AVAILABLE']"
   ]
  },
  {
   "cell_type": "code",
   "execution_count": 87,
   "id": "5174b9a3-94b6-4a34-ad40-caf3ca4f41f8",
   "metadata": {},
   "outputs": [],
   "source": [
    "notList = ['NEW TOOL REQUIRED','LOW PUSH & VERIFIER AVAILABLE','LOW PUSH AVAILABLE']\n",
    "name, type_, system, line, angle, head_angle = [],[],[],[],[],[]\n",
    "\n",
    "for text in texts:\n",
    "    tmp = list(filter(lambda x: x not in notList, text.split('\\r\\n')))\n",
    "    tmpname, tmptype, *pair = tmp\n",
    "    spec = {k:v for k,v in zip(filter(lambda x: pair.index(x)%2==0, pair),filter(lambda x: pair.index(x)%2==1, pair))}\n",
    "    \n",
    "    name.append(tmpname)\n",
    "    type_.append(tmptype)\n",
    "    try:\n",
    "        system.append(spec['System Ø'])\n",
    "    except:\n",
    "        system.append('')\n",
    "    try:\n",
    "        line.append(spec['Line Ø'])\n",
    "    except:\n",
    "        line.append('')\n",
    "    try:\n",
    "        angle.append(spec['Angle'])\n",
    "    except:\n",
    "        angle.append('')\n",
    "    try:\n",
    "        head_angle.append(spec['Head Rotation'])\n",
    "    except:\n",
    "        head_angle.append('')"
   ]
  },
  {
   "cell_type": "code",
   "execution_count": 85,
   "id": "011208be-0a2d-4a22-80e2-0ac664bafbbb",
   "metadata": {
    "tags": []
   },
   "outputs": [
    {
     "data": {
      "text/plain": [
       "845"
      ]
     },
     "execution_count": 85,
     "metadata": {},
     "output_type": "execute_result"
    }
   ],
   "source": []
  },
  {
   "cell_type": "code",
   "execution_count": 89,
   "id": "0b45d05a-1ffb-4045-bb0b-c10afa32dfb3",
   "metadata": {
    "tags": []
   },
   "outputs": [
    {
     "data": {
      "text/html": [
       "<div>\n",
       "<style scoped>\n",
       "    .dataframe tbody tr th:only-of-type {\n",
       "        vertical-align: middle;\n",
       "    }\n",
       "\n",
       "    .dataframe tbody tr th {\n",
       "        vertical-align: top;\n",
       "    }\n",
       "\n",
       "    .dataframe thead th {\n",
       "        text-align: right;\n",
       "    }\n",
       "</style>\n",
       "<table border=\"1\" class=\"dataframe\">\n",
       "  <thead>\n",
       "    <tr style=\"text-align: right;\">\n",
       "      <th></th>\n",
       "      <th>name</th>\n",
       "      <th>type</th>\n",
       "      <th>System Ø</th>\n",
       "      <th>Line Ø</th>\n",
       "      <th>Angle</th>\n",
       "      <th>Head Rotation</th>\n",
       "    </tr>\n",
       "  </thead>\n",
       "  <tbody>\n",
       "    <tr>\n",
       "      <th>0</th>\n",
       "      <td>T1</td>\n",
       "      <td>E LOCK SINGLE O-RING</td>\n",
       "      <td>Type 6</td>\n",
       "      <td>Tube 8x10 or 3/8in</td>\n",
       "      <td>STRAIGHT</td>\n",
       "      <td></td>\n",
       "    </tr>\n",
       "    <tr>\n",
       "      <th>1</th>\n",
       "      <td>T2</td>\n",
       "      <td>E LOCK SINGLE O-RING</td>\n",
       "      <td>Type 6</td>\n",
       "      <td>Tube 8x10 or 3/8in</td>\n",
       "      <td>90°</td>\n",
       "      <td></td>\n",
       "    </tr>\n",
       "    <tr>\n",
       "      <th>2</th>\n",
       "      <td>GA9</td>\n",
       "      <td>VDA</td>\n",
       "      <td>NW6</td>\n",
       "      <td>Tube 8x10 or 3/8in</td>\n",
       "      <td>STRAIGHT</td>\n",
       "      <td></td>\n",
       "    </tr>\n",
       "    <tr>\n",
       "      <th>3</th>\n",
       "      <td>GA6</td>\n",
       "      <td>VDA</td>\n",
       "      <td>NW6</td>\n",
       "      <td>Tube 8x10 or 3/8in</td>\n",
       "      <td>STRAIGHT</td>\n",
       "      <td></td>\n",
       "    </tr>\n",
       "    <tr>\n",
       "      <th>4</th>\n",
       "      <td>GA11</td>\n",
       "      <td>VDA</td>\n",
       "      <td>NW6</td>\n",
       "      <td>Tube 8x10 or 3/8in</td>\n",
       "      <td>90°</td>\n",
       "      <td></td>\n",
       "    </tr>\n",
       "    <tr>\n",
       "      <th>5</th>\n",
       "      <td>GA10</td>\n",
       "      <td>VDA</td>\n",
       "      <td>NW6</td>\n",
       "      <td>Tube 8x10 or 3/8in</td>\n",
       "      <td>41.5°</td>\n",
       "      <td>90°</td>\n",
       "    </tr>\n",
       "    <tr>\n",
       "      <th>6</th>\n",
       "      <td>GA13</td>\n",
       "      <td>END PIECE</td>\n",
       "      <td>NW6</td>\n",
       "      <td>Tube 6x8 or 5/16in</td>\n",
       "      <td>STRAIGHT</td>\n",
       "      <td></td>\n",
       "    </tr>\n",
       "    <tr>\n",
       "      <th>7</th>\n",
       "      <td>GA2</td>\n",
       "      <td>VDA</td>\n",
       "      <td>NW6</td>\n",
       "      <td>Tube 6x8 or 5/16in</td>\n",
       "      <td>90°</td>\n",
       "      <td></td>\n",
       "    </tr>\n",
       "    <tr>\n",
       "      <th>8</th>\n",
       "      <td>GA1</td>\n",
       "      <td>VDA</td>\n",
       "      <td>NW6</td>\n",
       "      <td>Tube 6x8 or 5/16in</td>\n",
       "      <td>41.5°</td>\n",
       "      <td>90°</td>\n",
       "    </tr>\n",
       "    <tr>\n",
       "      <th>9</th>\n",
       "      <td>GA8</td>\n",
       "      <td>VDA</td>\n",
       "      <td>NW6</td>\n",
       "      <td>Hose 6</td>\n",
       "      <td>90°</td>\n",
       "      <td>270°</td>\n",
       "    </tr>\n",
       "    <tr>\n",
       "      <th>10</th>\n",
       "      <td>GA4</td>\n",
       "      <td>VDA BALL VALVE</td>\n",
       "      <td>NW6</td>\n",
       "      <td>Hose 10</td>\n",
       "      <td>STRAIGHT</td>\n",
       "      <td></td>\n",
       "    </tr>\n",
       "    <tr>\n",
       "      <th>11</th>\n",
       "      <td>GA7</td>\n",
       "      <td>VDA</td>\n",
       "      <td>NW6</td>\n",
       "      <td>Hose 10</td>\n",
       "      <td>STRAIGHT</td>\n",
       "      <td></td>\n",
       "    </tr>\n",
       "    <tr>\n",
       "      <th>12</th>\n",
       "      <td>GA3</td>\n",
       "      <td>VDA</td>\n",
       "      <td>NW6</td>\n",
       "      <td>Hose 10</td>\n",
       "      <td>90°</td>\n",
       "      <td></td>\n",
       "    </tr>\n",
       "    <tr>\n",
       "      <th>13</th>\n",
       "      <td>GA12</td>\n",
       "      <td>VDA BALL VALVE</td>\n",
       "      <td>NW6</td>\n",
       "      <td>Hose 10</td>\n",
       "      <td>90°</td>\n",
       "      <td></td>\n",
       "    </tr>\n",
       "    <tr>\n",
       "      <th>14</th>\n",
       "      <td>GA5</td>\n",
       "      <td>VDA</td>\n",
       "      <td>NW6</td>\n",
       "      <td>Hose 10</td>\n",
       "      <td>41.5°</td>\n",
       "      <td>90°</td>\n",
       "    </tr>\n",
       "    <tr>\n",
       "      <th>15</th>\n",
       "      <td>W1</td>\n",
       "      <td>STEELOCK SINGLE O-RING</td>\n",
       "      <td>NW55</td>\n",
       "      <td>Hose 55</td>\n",
       "      <td>STRAIGHT</td>\n",
       "      <td></td>\n",
       "    </tr>\n",
       "    <tr>\n",
       "      <th>16</th>\n",
       "      <td>OB16</td>\n",
       "      <td>VDA</td>\n",
       "      <td>NW32</td>\n",
       "      <td>Hose 32</td>\n",
       "      <td>65°</td>\n",
       "      <td>170°</td>\n",
       "    </tr>\n",
       "    <tr>\n",
       "      <th>17</th>\n",
       "      <td>OB2</td>\n",
       "      <td>VDA</td>\n",
       "      <td>NW32</td>\n",
       "      <td>Hose 32</td>\n",
       "      <td>STRAIGHT</td>\n",
       "      <td></td>\n",
       "    </tr>\n",
       "    <tr>\n",
       "      <th>18</th>\n",
       "      <td>OB13</td>\n",
       "      <td>VDA BLEED SCREW</td>\n",
       "      <td>NW32</td>\n",
       "      <td>Hose 32</td>\n",
       "      <td>90°</td>\n",
       "      <td></td>\n",
       "    </tr>\n",
       "    <tr>\n",
       "      <th>19</th>\n",
       "      <td>OB12</td>\n",
       "      <td>VDA</td>\n",
       "      <td>NW32</td>\n",
       "      <td>Hose 32</td>\n",
       "      <td>90°</td>\n",
       "      <td>180°</td>\n",
       "    </tr>\n",
       "  </tbody>\n",
       "</table>\n",
       "</div>"
      ],
      "text/plain": [
       "    name                    type System Ø              Line Ø     Angle  \\\n",
       "0     T1    E LOCK SINGLE O-RING   Type 6  Tube 8x10 or 3/8in  STRAIGHT   \n",
       "1     T2    E LOCK SINGLE O-RING   Type 6  Tube 8x10 or 3/8in       90°   \n",
       "2    GA9                     VDA      NW6  Tube 8x10 or 3/8in  STRAIGHT   \n",
       "3    GA6                     VDA      NW6  Tube 8x10 or 3/8in  STRAIGHT   \n",
       "4   GA11                     VDA      NW6  Tube 8x10 or 3/8in       90°   \n",
       "5   GA10                     VDA      NW6  Tube 8x10 or 3/8in     41.5°   \n",
       "6   GA13               END PIECE      NW6  Tube 6x8 or 5/16in  STRAIGHT   \n",
       "7    GA2                     VDA      NW6  Tube 6x8 or 5/16in       90°   \n",
       "8    GA1                     VDA      NW6  Tube 6x8 or 5/16in     41.5°   \n",
       "9    GA8                     VDA      NW6              Hose 6       90°   \n",
       "10   GA4          VDA BALL VALVE      NW6             Hose 10  STRAIGHT   \n",
       "11   GA7                     VDA      NW6             Hose 10  STRAIGHT   \n",
       "12   GA3                     VDA      NW6             Hose 10       90°   \n",
       "13  GA12          VDA BALL VALVE      NW6             Hose 10       90°   \n",
       "14   GA5                     VDA      NW6             Hose 10     41.5°   \n",
       "15    W1  STEELOCK SINGLE O-RING     NW55             Hose 55  STRAIGHT   \n",
       "16  OB16                     VDA     NW32             Hose 32       65°   \n",
       "17   OB2                     VDA     NW32             Hose 32  STRAIGHT   \n",
       "18  OB13         VDA BLEED SCREW     NW32             Hose 32       90°   \n",
       "19  OB12                     VDA     NW32             Hose 32       90°   \n",
       "\n",
       "   Head Rotation  \n",
       "0                 \n",
       "1                 \n",
       "2                 \n",
       "3                 \n",
       "4                 \n",
       "5            90°  \n",
       "6                 \n",
       "7                 \n",
       "8            90°  \n",
       "9           270°  \n",
       "10                \n",
       "11                \n",
       "12                \n",
       "13                \n",
       "14           90°  \n",
       "15                \n",
       "16          170°  \n",
       "17                \n",
       "18                \n",
       "19          180°  "
      ]
     },
     "execution_count": 89,
     "metadata": {},
     "output_type": "execute_result"
    }
   ],
   "source": [
    "resdf = pd.DataFrame({'name':name, 'type':type_, 'System Ø':system, 'Line Ø':line, 'Angle':angle, 'Head Rotation':head_angle})\n",
    "resdf.head(20)"
   ]
  },
  {
   "cell_type": "code",
   "execution_count": 94,
   "id": "d29c0865-9804-4794-8d10-15d608347154",
   "metadata": {},
   "outputs": [],
   "source": [
    "resdf.to_csv('list.csv', encoding='shiftjis', errors='ignore')"
   ]
  },
  {
   "cell_type": "code",
   "execution_count": null,
   "id": "1fdd012c-f165-45b4-9a3a-bec53f32fbc8",
   "metadata": {},
   "outputs": [],
   "source": []
  },
  {
   "cell_type": "code",
   "execution_count": null,
   "id": "b38243b6-8e3f-432f-beed-6d7eb830f45a",
   "metadata": {},
   "outputs": [],
   "source": []
  },
  {
   "cell_type": "code",
   "execution_count": null,
   "id": "3c2a0401-f105-4f88-a67f-137a2caf8071",
   "metadata": {},
   "outputs": [],
   "source": []
  },
  {
   "cell_type": "code",
   "execution_count": null,
   "id": "7d650ab4-18a0-4ed4-a9c7-99c0d2328203",
   "metadata": {},
   "outputs": [],
   "source": []
  },
  {
   "cell_type": "code",
   "execution_count": 40,
   "id": "90451d6c-cdb4-4802-a4bc-c59d6858f5b3",
   "metadata": {},
   "outputs": [
    {
     "data": {
      "text/plain": [
       "['OB16',\n",
       " 'VDA',\n",
       " 'System Ø',\n",
       " 'NW32',\n",
       " 'Line Ø',\n",
       " 'Hose 32',\n",
       " 'Angle',\n",
       " '65°',\n",
       " 'Head Rotation',\n",
       " '170°']"
      ]
     },
     "execution_count": 40,
     "metadata": {},
     "output_type": "execute_result"
    }
   ],
   "source": [
    "list(filter(lambda x: x not in notList, texts[16].split('\\r\\n')))"
   ]
  },
  {
   "cell_type": "code",
   "execution_count": 41,
   "id": "cb6d0412-67df-4e29-bae4-d8029ed8d36e",
   "metadata": {},
   "outputs": [
    {
     "data": {
      "text/plain": [
       "['OB16',\n",
       " 'VDA',\n",
       " 'System Ø',\n",
       " 'NW32',\n",
       " 'Line Ø',\n",
       " 'Hose 32',\n",
       " 'Angle',\n",
       " '65°',\n",
       " 'Head Rotation',\n",
       " '170°']"
      ]
     },
     "execution_count": 41,
     "metadata": {},
     "output_type": "execute_result"
    }
   ],
   "source": [
    "list(filter(lambda x: x not in notList, texts[16].split('\\r\\n')))"
   ]
  },
  {
   "cell_type": "code",
   "execution_count": 48,
   "id": "a7fe09b9-1e99-47ed-9f12-d0039888e9fc",
   "metadata": {},
   "outputs": [],
   "source": [
    "tmp = list(filter(lambda x: x not in notList, texts[16].split('\\r\\n')))\n",
    "name, type_, *pair = tmp"
   ]
  },
  {
   "cell_type": "code",
   "execution_count": 50,
   "id": "b1c3d69e-51ad-4518-a94d-2abb99864892",
   "metadata": {},
   "outputs": [
    {
     "data": {
      "text/plain": [
       "['System Ø',\n",
       " 'NW32',\n",
       " 'Line Ø',\n",
       " 'Hose 32',\n",
       " 'Angle',\n",
       " '65°',\n",
       " 'Head Rotation',\n",
       " '170°']"
      ]
     },
     "execution_count": 50,
     "metadata": {},
     "output_type": "execute_result"
    }
   ],
   "source": [
    "pair"
   ]
  },
  {
   "cell_type": "code",
   "execution_count": 62,
   "id": "36c99d06-7faf-46ce-8d73-9718f6ad9a0e",
   "metadata": {},
   "outputs": [
    {
     "data": {
      "text/plain": [
       "{'System Ø': 'NW32',\n",
       " 'Line Ø': 'Hose 32',\n",
       " 'Angle': '65°',\n",
       " 'Head Rotation': '170°'}"
      ]
     },
     "execution_count": 62,
     "metadata": {},
     "output_type": "execute_result"
    }
   ],
   "source": [
    "{k:v for k,v in zip(filter(lambda x: pair.index(x)%2==0, pair),filter(lambda x: pair.index(x)%2==1, pair))}"
   ]
  },
  {
   "cell_type": "code",
   "execution_count": 58,
   "id": "c3915742-07fa-4ec8-832a-48b38c8ea1a6",
   "metadata": {},
   "outputs": [
    {
     "name": "stdout",
     "output_type": "stream",
     "text": [
      "0\n",
      "1\n",
      "2\n",
      "3\n",
      "4\n",
      "5\n",
      "6\n",
      "7\n"
     ]
    }
   ],
   "source": [
    "for i in pair:\n",
    "    print(pair.index(i))"
   ]
  },
  {
   "cell_type": "code",
   "execution_count": null,
   "id": "9d0a65ad-407b-4818-9527-f95286753f31",
   "metadata": {},
   "outputs": [],
   "source": []
  }
 ],
 "metadata": {
  "kernelspec": {
   "display_name": "Python 3 (ipykernel)",
   "language": "python",
   "name": "python3"
  },
  "language_info": {
   "codemirror_mode": {
    "name": "ipython",
    "version": 3
   },
   "file_extension": ".py",
   "mimetype": "text/x-python",
   "name": "python",
   "nbconvert_exporter": "python",
   "pygments_lexer": "ipython3",
   "version": "3.8.10"
  }
 },
 "nbformat": 4,
 "nbformat_minor": 5
}
