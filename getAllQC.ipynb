{
 "cells": [
  {
   "cell_type": "code",
   "execution_count": 62,
   "id": "b256064b",
   "metadata": {},
   "outputs": [],
   "source": [
    "from selenium import webdriver\n",
    "from selenium.webdriver.common.by import By\n",
    "from selenium.webdriver.support.ui import WebDriverWait\n",
    "from selenium.webdriver.support import expected_conditions as EC\n",
    "import time"
   ]
  },
  {
   "cell_type": "code",
   "execution_count": 69,
   "id": "0d87bf9a",
   "metadata": {
    "scrolled": true
   },
   "outputs": [
    {
     "name": "stdout",
     "output_type": "stream",
     "text": [
      "https://media.araymond.com/image/upload/e_trim/h_150,w_150,c_pad/Connecting/Keyshot/T1\n",
      "https://media.araymond.com/image/upload/e_trim/h_150,w_150,c_pad/Connecting/Keyshot/T2\n",
      "https://media.araymond.com/image/upload/e_trim/h_150,w_150,c_pad/Connecting/Keyshot/GA9\n",
      "https://media.araymond.com/image/upload/e_trim/h_150,w_150,c_pad/Connecting/Keyshot/GA6\n",
      "https://media.araymond.com/image/upload/e_trim/h_150,w_150,c_pad/Connecting/Keyshot/GA11\n",
      "https://media.araymond.com/image/upload/e_trim/h_150,w_150,c_pad/Connecting/Keyshot/GA10\n",
      "https://media.araymond.com/image/upload/e_trim/h_150,w_150,c_pad/Connecting/Keyshot/GA13\n",
      "https://media.araymond.com/image/upload/e_trim/h_150,w_150,c_pad/Connecting/Keyshot/GA2\n",
      "https://media.araymond.com/image/upload/e_trim/h_150,w_150,c_pad/Connecting/Keyshot/GA1\n",
      "https://media.araymond.com/image/upload/e_trim/h_150,w_150,c_pad/Connecting/Keyshot/GA8\n",
      "https://media.araymond.com/image/upload/e_trim/h_150,w_150,c_pad/Connecting/Keyshot/GA4\n",
      "https://media.araymond.com/image/upload/e_trim/h_150,w_150,c_pad/Connecting/Keyshot/GA7\n",
      "https://media.araymond.com/image/upload/e_trim/h_150,w_150,c_pad/Connecting/Keyshot/GA3\n",
      "https://media.araymond.com/image/upload/e_trim/h_150,w_150,c_pad/Connecting/Keyshot/GA12\n",
      "https://media.araymond.com/image/upload/e_trim/h_150,w_150,c_pad/Connecting/Keyshot/GA5\n",
      "https://media.araymond.com/image/upload/e_trim/h_150,w_150,c_pad/Connecting/Keyshot/W1\n",
      "https://media.araymond.com/image/upload/e_trim/h_150,w_150,c_pad/Connecting/Keyshot/OB16\n",
      "https://media.araymond.com/image/upload/e_trim/h_150,w_150,c_pad/Connecting/Keyshot/OB2\n",
      "https://media.araymond.com/image/upload/e_trim/h_150,w_150,c_pad/Connecting/Keyshot/OB13\n",
      "https://media.araymond.com/image/upload/e_trim/h_150,w_150,c_pad/Connecting/Keyshot/OB12\n",
      "https://media.araymond.com/image/upload/e_trim/h_150,w_150,c_pad/Connecting/Keyshot/OB9\n",
      "https://media.araymond.com/image/upload/e_trim/h_150,w_150,c_pad/Connecting/Keyshot/OB6\n",
      "https://media.araymond.com/image/upload/e_trim/h_150,w_150,c_pad/Connecting/Keyshot/OB5\n",
      "https://media.araymond.com/image/upload/e_trim/h_150,w_150,c_pad/Connecting/Keyshot/OB7\n",
      "https://media.araymond.com/image/upload/e_trim/h_150,w_150,c_pad/Connecting/Keyshot/OB8\n",
      "https://media.araymond.com/image/upload/e_trim/h_150,w_150,c_pad/Connecting/Keyshot/OB15\n",
      "https://media.araymond.com/image/upload/e_trim/h_150,w_150,c_pad/Connecting/Keyshot/OB14\n",
      "https://media.araymond.com/image/upload/e_trim/h_150,w_150,c_pad/Connecting/Keyshot/OB11\n",
      "https://media.araymond.com/image/upload/e_trim/h_150,w_150,c_pad/Connecting/Keyshot/OB10\n",
      "https://media.araymond.com/image/upload/e_trim/h_150,w_150,c_pad/Connecting/Keyshot/XP2\n"
     ]
    }
   ],
   "source": [
    "driver = webdriver.Chrome('chromedriver')\n",
    "url = 'https://catalog.araymond-automotive.com/results?model=qc'\n",
    "driver.get(url)\n",
    "\n",
    "resText = []\n",
    "resPic = []\n",
    "try:\n",
    "    element = WebDriverWait(driver, 20).until(\n",
    "        EC.presence_of_element_located((By.CLASS_NAME, 'product-card-container'))\n",
    "    )\n",
    "    # get all texts\n",
    "    texts = driver.find_elements(By.CLASS_NAME, 'product-card-container')\n",
    "    for text in texts:\n",
    "        resText.append(text.text)\n",
    "    # get all pics\n",
    "    pics = driver.find_elements(By.TAG_NAME, 'img')\n",
    "    for pic in pics:\n",
    "        src = pic.get_attribute('src')\n",
    "        if 'w_150' in src:\n",
    "            resPic.append(src)\n",
    "            print(src)\n",
    "    # check if next page exists\n",
    "    while True:   \n",
    "        rightBtn = [btn for btn in driver.find_elements(By.CLASS_NAME, 'material-icons') if 'chevron_right' in btn.text]\n",
    "        if rightBtn:\n",
    "            rightBtn[0].click()\n",
    "            element = WebDriverWait(driver, 20).until(\n",
    "                EC.presence_of_element_located((By.CLASS_NAME, 'product-card-container'))\n",
    "            )\n",
    "            texts = driver.find_elements(By.CLASS_NAME, 'product-card-container')\n",
    "            for text in texts:\n",
    "                resText.append(text.text)\n",
    "            pics = driver.find_elements(By.TAG_NAME, 'img')\n",
    "            for pic in pics:\n",
    "                src = pic.get_attribute('src')\n",
    "                if 'w_150' in src:\n",
    "                    resPic.append(src)\n",
    "        else:\n",
    "            break\n",
    "                     \n",
    "except Exception as e:\n",
    "    print(e)\n",
    "finally:\n",
    "    driver.quit()"
   ]
  },
  {
   "cell_type": "code",
   "execution_count": 72,
   "id": "da188f09",
   "metadata": {},
   "outputs": [
    {
     "data": {
      "text/plain": [
       "(845, 845)"
      ]
     },
     "execution_count": 72,
     "metadata": {},
     "output_type": "execute_result"
    }
   ],
   "source": [
    "len(resText), len(resPic)"
   ]
  },
  {
   "cell_type": "code",
   "execution_count": 74,
   "id": "432e3bdd",
   "metadata": {},
   "outputs": [
    {
     "data": {
      "text/plain": [
       "(['S40\\nADAPTOR\\nLine Ø\\nTube 14x16 or 5/8in\\nAngle\\n3 WAY',\n",
       "  'S31\\nADAPTOR\\nLine Ø\\nHose 7.5\\nAngle\\n90°',\n",
       "  'S12\\nADAPTOR\\nLine Ø\\nHose 7.5\\nAngle\\n3 WAY',\n",
       "  'S5\\nADAPTOR\\nLine Ø\\nHose 7.5\\nAngle\\n3 WAY',\n",
       "  'S36\\nADAPTOR\\nLine Ø\\nHose 5.5\\nAngle\\n3 WAY'],\n",
       " ['https://media.araymond.com/image/upload/e_trim/h_150,w_150,c_pad/Connecting/Keyshot/S40',\n",
       "  'https://media.araymond.com/image/upload/e_trim/h_150,w_150,c_pad/Connecting/Keyshot/S31',\n",
       "  'https://media.araymond.com/image/upload/e_trim/h_150,w_150,c_pad/Connecting/Keyshot/S12',\n",
       "  'https://media.araymond.com/image/upload/e_trim/h_150,w_150,c_pad/Connecting/Keyshot/S5',\n",
       "  'https://media.araymond.com/image/upload/e_trim/h_150,w_150,c_pad/Connecting/Keyshot/S36'])"
      ]
     },
     "execution_count": 74,
     "metadata": {},
     "output_type": "execute_result"
    }
   ],
   "source": [
    "resText[-5:], resPic[-5:]"
   ]
  },
  {
   "cell_type": "markdown",
   "id": "e44cfdda",
   "metadata": {},
   "source": [
    "## export to csv"
   ]
  },
  {
   "cell_type": "code",
   "execution_count": 75,
   "id": "c04ac36c",
   "metadata": {},
   "outputs": [],
   "source": [
    "import pandas as pd"
   ]
  },
  {
   "cell_type": "code",
   "execution_count": 78,
   "id": "2044015c",
   "metadata": {},
   "outputs": [],
   "source": [
    "df = pd.DataFrame({'text': resText, 'img': resPic})"
   ]
  },
  {
   "cell_type": "code",
   "execution_count": 79,
   "id": "c330d60e",
   "metadata": {},
   "outputs": [],
   "source": [
    "df.to_csv('res.csv')"
   ]
  },
  {
   "cell_type": "code",
   "execution_count": 80,
   "id": "b57098d7",
   "metadata": {},
   "outputs": [
    {
     "data": {
      "text/html": [
       "<div>\n",
       "<style scoped>\n",
       "    .dataframe tbody tr th:only-of-type {\n",
       "        vertical-align: middle;\n",
       "    }\n",
       "\n",
       "    .dataframe tbody tr th {\n",
       "        vertical-align: top;\n",
       "    }\n",
       "\n",
       "    .dataframe thead th {\n",
       "        text-align: right;\n",
       "    }\n",
       "</style>\n",
       "<table border=\"1\" class=\"dataframe\">\n",
       "  <thead>\n",
       "    <tr style=\"text-align: right;\">\n",
       "      <th></th>\n",
       "      <th>text</th>\n",
       "      <th>img</th>\n",
       "    </tr>\n",
       "  </thead>\n",
       "  <tbody>\n",
       "    <tr>\n",
       "      <th>0</th>\n",
       "      <td>T1\\nE LOCK SINGLE O-RING\\nSystem Ø\\nType 6\\nLi...</td>\n",
       "      <td>https://media.araymond.com/image/upload/e_trim...</td>\n",
       "    </tr>\n",
       "    <tr>\n",
       "      <th>1</th>\n",
       "      <td>T2\\nE LOCK SINGLE O-RING\\nSystem Ø\\nType 6\\nLi...</td>\n",
       "      <td>https://media.araymond.com/image/upload/e_trim...</td>\n",
       "    </tr>\n",
       "    <tr>\n",
       "      <th>2</th>\n",
       "      <td>GA9\\nNEW TOOL REQUIRED\\nVDA\\nSystem Ø\\nNW6\\nLi...</td>\n",
       "      <td>https://media.araymond.com/image/upload/e_trim...</td>\n",
       "    </tr>\n",
       "    <tr>\n",
       "      <th>3</th>\n",
       "      <td>GA6\\nVDA\\nSystem Ø\\nNW6\\nLine Ø\\nTube 8x10 or ...</td>\n",
       "      <td>https://media.araymond.com/image/upload/e_trim...</td>\n",
       "    </tr>\n",
       "    <tr>\n",
       "      <th>4</th>\n",
       "      <td>GA11\\nNEW TOOL REQUIRED\\nVDA\\nSystem Ø\\nNW6\\nL...</td>\n",
       "      <td>https://media.araymond.com/image/upload/e_trim...</td>\n",
       "    </tr>\n",
       "  </tbody>\n",
       "</table>\n",
       "</div>"
      ],
      "text/plain": [
       "                                                text  \\\n",
       "0  T1\\nE LOCK SINGLE O-RING\\nSystem Ø\\nType 6\\nLi...   \n",
       "1  T2\\nE LOCK SINGLE O-RING\\nSystem Ø\\nType 6\\nLi...   \n",
       "2  GA9\\nNEW TOOL REQUIRED\\nVDA\\nSystem Ø\\nNW6\\nLi...   \n",
       "3  GA6\\nVDA\\nSystem Ø\\nNW6\\nLine Ø\\nTube 8x10 or ...   \n",
       "4  GA11\\nNEW TOOL REQUIRED\\nVDA\\nSystem Ø\\nNW6\\nL...   \n",
       "\n",
       "                                                 img  \n",
       "0  https://media.araymond.com/image/upload/e_trim...  \n",
       "1  https://media.araymond.com/image/upload/e_trim...  \n",
       "2  https://media.araymond.com/image/upload/e_trim...  \n",
       "3  https://media.araymond.com/image/upload/e_trim...  \n",
       "4  https://media.araymond.com/image/upload/e_trim...  "
      ]
     },
     "execution_count": 80,
     "metadata": {},
     "output_type": "execute_result"
    }
   ],
   "source": [
    "df.head()"
   ]
  },
  {
   "cell_type": "code",
   "execution_count": 98,
   "id": "5603b85f",
   "metadata": {},
   "outputs": [
    {
     "data": {
      "text/plain": [
       "8     540\n",
       "9      89\n",
       "10     89\n",
       "11     74\n",
       "6      37\n",
       "4       7\n",
       "7       6\n",
       "5       2\n",
       "12      1\n",
       "Name: text, dtype: int64"
      ]
     },
     "execution_count": 98,
     "metadata": {},
     "output_type": "execute_result"
    }
   ],
   "source": [
    "df['text'].apply(lambda x: len(x.split('\\n'))).value_counts()"
   ]
  },
  {
   "cell_type": "code",
   "execution_count": null,
   "id": "f24cf5ff",
   "metadata": {},
   "outputs": [],
   "source": []
  },
  {
   "cell_type": "code",
   "execution_count": null,
   "id": "77419caa",
   "metadata": {},
   "outputs": [],
   "source": []
  },
  {
   "cell_type": "code",
   "execution_count": null,
   "id": "ad1a667e",
   "metadata": {},
   "outputs": [],
   "source": []
  },
  {
   "cell_type": "code",
   "execution_count": null,
   "id": "1f3ab626",
   "metadata": {},
   "outputs": [],
   "source": []
  },
  {
   "cell_type": "code",
   "execution_count": null,
   "id": "10cd2650",
   "metadata": {},
   "outputs": [],
   "source": []
  },
  {
   "cell_type": "code",
   "execution_count": null,
   "id": "d06bd377",
   "metadata": {},
   "outputs": [],
   "source": []
  },
  {
   "cell_type": "code",
   "execution_count": null,
   "id": "5a62e851",
   "metadata": {},
   "outputs": [],
   "source": []
  },
  {
   "cell_type": "markdown",
   "id": "6c279389",
   "metadata": {},
   "source": [
    "## Test"
   ]
  },
  {
   "cell_type": "code",
   "execution_count": 53,
   "id": "533e83c7",
   "metadata": {},
   "outputs": [
    {
     "data": {
      "text/plain": [
       "['GA9',\n",
       " 'NEW TOOL REQUIRED',\n",
       " 'VDA',\n",
       " 'System Ø',\n",
       " 'NW6',\n",
       " 'Line Ø',\n",
       " 'Tube 8x10 or 3/8in',\n",
       " 'Angle',\n",
       " 'STRAIGHT']"
      ]
     },
     "execution_count": 53,
     "metadata": {},
     "output_type": "execute_result"
    }
   ],
   "source": [
    "resText[2].split('\\n')"
   ]
  },
  {
   "cell_type": "code",
   "execution_count": 51,
   "id": "8d7c6f7d",
   "metadata": {},
   "outputs": [
    {
     "name": "stdout",
     "output_type": "stream",
     "text": [
      "T1\tE LOCK SINGLE O-RING\tType 6\tTube 8x10 or 3/8in\tSTRAIGHT\n"
     ]
    }
   ],
   "source": [
    "value, name, _, type_, _, size, _, angle = resText[0].split('\\n')\n",
    "print('\\t'.join([value, name, type_, size, angle]))"
   ]
  },
  {
   "cell_type": "code",
   "execution_count": 58,
   "id": "ef140a7b",
   "metadata": {},
   "outputs": [
    {
     "data": {
      "text/plain": [
       "'https://media.araymond.com/image/upload/e_trim/h_150,w_150,c_pad/Connecting/Keyshot/T1'"
      ]
     },
     "execution_count": 58,
     "metadata": {},
     "output_type": "execute_result"
    }
   ],
   "source": [
    "resPic[0]"
   ]
  },
  {
   "cell_type": "markdown",
   "id": "de264bb0",
   "metadata": {},
   "source": [
    "T1\n",
    "E LOCK SINGLE O-RING\n",
    "System Ø\n",
    "Type 6\n",
    "Line Ø\n",
    "Tube 8x10 or 3/8in\n",
    "Angle\n",
    "STRAIGHT"
   ]
  },
  {
   "cell_type": "code",
   "execution_count": 33,
   "id": "dd8a603f",
   "metadata": {},
   "outputs": [
    {
     "name": "stdout",
     "output_type": "stream",
     "text": [
      "ノートパソコン\n",
      "タブレット\n",
      "ハードディスク\n",
      "PCパーツ\n",
      "周辺機器\n"
     ]
    }
   ],
   "source": [
    "# c-list2_cell-hover-1\n",
    "driver = webdriver.Chrome('chromedriver')\n",
    "url = 'https://kakaku.com/'\n",
    "driver.get(url)\n",
    "try:\n",
    "    element = WebDriverWait(driver, 20).until(\n",
    "        EC.presence_of_element_located((By.CLASS_NAME, 'c-list2_cell-hover-1'))\n",
    "    )\n",
    "    results = driver.find_element(By.CLASS_NAME, 'c-list2_cell-hover-1')\n",
    "    print(results.text)\n",
    "finally:\n",
    "    driver.quit()"
   ]
  },
  {
   "cell_type": "code",
   "execution_count": null,
   "id": "d1c74e24",
   "metadata": {},
   "outputs": [],
   "source": []
  }
 ],
 "metadata": {
  "kernelspec": {
   "display_name": "Python 3.9 (tensorflow)",
   "language": "python",
   "name": "tensorflow"
  },
  "language_info": {
   "codemirror_mode": {
    "name": "ipython",
    "version": 3
   },
   "file_extension": ".py",
   "mimetype": "text/x-python",
   "name": "python",
   "nbconvert_exporter": "python",
   "pygments_lexer": "ipython3",
   "version": "3.9.13"
  }
 },
 "nbformat": 4,
 "nbformat_minor": 5
}
